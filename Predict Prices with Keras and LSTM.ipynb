{
 "cells": [
  {
   "cell_type": "code",
   "execution_count": 1,
   "metadata": {},
   "outputs": [
    {
     "name": "stderr",
     "output_type": "stream",
     "text": [
      "Using TensorFlow backend.\n"
     ]
    }
   ],
   "source": [
    "import pandas as pd\n",
    "import numpy as np\n",
    "\n",
    "from keras import Input\n",
    "from keras.engine import Model\n",
    "from keras.layers.core import Dense, Activation\n",
    "from keras.layers.recurrent import LSTM\n",
    "from keras.layers import Concatenate, concatenate\n",
    "from keras.callbacks import TensorBoard\n",
    "\n",
    "import h5py"
   ]
  },
  {
   "cell_type": "code",
   "execution_count": 21,
   "metadata": {
    "collapsed": true
   },
   "outputs": [],
   "source": [
    "# features is a list of strings of feature names \n",
    "\n",
    "def build_model(features, data_length, label_length):\n",
    "    \n",
    "    inputs_list = [] \n",
    "    for feature_name in features:\n",
    "        inputs_list.append((Input(shape=(data_length,1), name=feature_name)))\n",
    "    \n",
    "    layers = [] \n",
    "    for i, input_name in enumerate(inputs_list): \n",
    "        layers.append(LSTM(64, return_sequences=False)(inputs_list[i]) )\n",
    "        \n",
    "    output = concatenate(layers) \n",
    "    output = Dense(label_length, activation='linear', name='weighted_average_output')(output)\n",
    "    \n",
    "    model = Model(\n",
    "        inputs = inputs_list,\n",
    "        outputs = [output]\n",
    "    )\n",
    "    \n",
    "    model.compile(optimizer='rmsprop', loss='mse')\n",
    "    \n",
    "    return model    \n",
    "        \n",
    "data_length = 10\n",
    "label_length = 10"
   ]
  },
  {
   "cell_type": "code",
   "execution_count": 22,
   "metadata": {},
   "outputs": [
    {
     "name": "stderr",
     "output_type": "stream",
     "text": [
      "C:\\Users\\Shoya\\Anaconda2\\envs\\tensorflow\\lib\\site-packages\\ipykernel\\__main__.py:8: SettingWithCopyWarning: \n",
      "A value is trying to be set on a copy of a slice from a DataFrame.\n",
      "Try using .loc[row_indexer,col_indexer] = value instead\n",
      "\n",
      "See the caveats in the documentation: http://pandas.pydata.org/pandas-docs/stable/indexing.html#indexing-view-versus-copy\n"
     ]
    },
    {
     "name": "stdout",
     "output_type": "stream",
     "text": [
      "data [-5.44587603  5.27859267 -1.39306384 ..., -0.86772309  0.52915484\n",
      "  2.21562315]\n",
      "scaled [[ 0.27288984]\n",
      " [ 0.77679111]\n",
      " [ 0.4633158 ]\n",
      " ..., \n",
      " [ 0.48799952]\n",
      " [ 0.55363341]\n",
      " [ 0.63287403]]\n",
      "data [ 0.          0.07410797 -0.05505978 ...,  0.12921173  0.02985296  0.        ]\n",
      "scaled [[ 0.4536254 ]\n",
      " [ 0.47196961]\n",
      " [ 0.43999626]\n",
      " ..., \n",
      " [ 0.48560964]\n",
      " [ 0.46101501]\n",
      " [ 0.4536254 ]]\n",
      "data [ 0.00593818 -0.0164329  -0.00176565 ..., -0.00139514  0.03764151\n",
      " -0.00345164]\n",
      "scaled [[ 0.56657518]\n",
      " [ 0.48455698]\n",
      " [ 0.53833093]\n",
      " ..., \n",
      " [ 0.53968931]\n",
      " [ 0.68280789]\n",
      " [ 0.53214965]]\n",
      "data [ 0.01039096  0.00593818 -0.0164329  ..., -0.00379381 -0.00139514\n",
      "  0.03764151]\n",
      "scaled [[ 0.58290022]\n",
      " [ 0.56657518]\n",
      " [ 0.48455698]\n",
      " ..., \n",
      " [ 0.53089518]\n",
      " [ 0.53968931]\n",
      " [ 0.68280789]]\n"
     ]
    },
    {
     "data": {
      "text/html": [
       "<div>\n",
       "<style>\n",
       "    .dataframe thead tr:only-child th {\n",
       "        text-align: right;\n",
       "    }\n",
       "\n",
       "    .dataframe thead th {\n",
       "        text-align: left;\n",
       "    }\n",
       "\n",
       "    .dataframe tbody tr th {\n",
       "        vertical-align: top;\n",
       "    }\n",
       "</style>\n",
       "<table border=\"1\" class=\"dataframe\">\n",
       "  <thead>\n",
       "    <tr style=\"text-align: right;\">\n",
       "      <th></th>\n",
       "      <th>Volume_BTC</th>\n",
       "      <th>Bitcoin_Adj</th>\n",
       "      <th>Close</th>\n",
       "      <th>Price_lagged</th>\n",
       "    </tr>\n",
       "  </thead>\n",
       "  <tbody>\n",
       "    <tr>\n",
       "      <th>0</th>\n",
       "      <td>0.272890</td>\n",
       "      <td>0.453625</td>\n",
       "      <td>0.566575</td>\n",
       "      <td>0.582900</td>\n",
       "    </tr>\n",
       "    <tr>\n",
       "      <th>1</th>\n",
       "      <td>0.776791</td>\n",
       "      <td>0.471970</td>\n",
       "      <td>0.484557</td>\n",
       "      <td>0.566575</td>\n",
       "    </tr>\n",
       "    <tr>\n",
       "      <th>2</th>\n",
       "      <td>0.463316</td>\n",
       "      <td>0.439996</td>\n",
       "      <td>0.538331</td>\n",
       "      <td>0.484557</td>\n",
       "    </tr>\n",
       "    <tr>\n",
       "      <th>3</th>\n",
       "      <td>0.725079</td>\n",
       "      <td>0.529463</td>\n",
       "      <td>0.520715</td>\n",
       "      <td>0.538331</td>\n",
       "    </tr>\n",
       "    <tr>\n",
       "      <th>4</th>\n",
       "      <td>0.210661</td>\n",
       "      <td>0.416611</td>\n",
       "      <td>0.566098</td>\n",
       "      <td>0.520715</td>\n",
       "    </tr>\n",
       "  </tbody>\n",
       "</table>\n",
       "</div>"
      ],
      "text/plain": [
       "   Volume_BTC  Bitcoin_Adj     Close  Price_lagged\n",
       "0    0.272890     0.453625  0.566575      0.582900\n",
       "1    0.776791     0.471970  0.484557      0.566575\n",
       "2    0.463316     0.439996  0.538331      0.484557\n",
       "3    0.725079     0.529463  0.520715      0.538331\n",
       "4    0.210661     0.416611  0.566098      0.520715"
      ]
     },
     "metadata": {},
     "output_type": "display_data"
    }
   ],
   "source": [
    "from sklearn.preprocessing import MinMaxScaler\n",
    "\n",
    "master_df = pd.read_csv('C:/Users/Shoya/surf/data/master_df.csv', encoding='latin1')\n",
    "df = master_df[['Timestamp', 'Close', 'Volume_(BTC)', 'Volume_(Currency)', 'Date(UTC)', 'Bitcoin (Adj.Overlap)', \n",
    "               'Close Price % Change', 'Close Price % Change (Abs)', 'Is Spike']]\n",
    "\n",
    "# lag price \n",
    "df['Price_lagged'] = df['Close'].shift(1)\n",
    "\n",
    "df = df.dropna()\n",
    "\n",
    "df['Volume_BTC'] = df['Volume_(BTC)']\n",
    "df['Bitcoin_Adj'] = df['Bitcoin (Adj.Overlap)']\n",
    "\n",
    "cols = ['Volume_BTC','Bitcoin_Adj', 'Close', 'Price_lagged']\n",
    "\n",
    "# Stationalize Data by taking log differences\n",
    "data_array = np.diff(np.log(df[cols]), axis=0)\n",
    "\n",
    "# Min-Max Scale \n",
    "\n",
    "scalers = {}\n",
    "datas = [] \n",
    "\n",
    "df_scaled = pd.DataFrame(columns=cols)\n",
    "\n",
    "for i in range(len(cols)): \n",
    "    scalers[cols[i]] = MinMaxScaler()\n",
    "    print('data', data_array[:,i])\n",
    "    \n",
    "    col_data = data_array[:,i]\n",
    "    col_data = np.reshape(col_data, (len(col_data), 1))\n",
    "    \n",
    "    data = scalers[cols[i]].fit_transform( col_data )  #:, np.newaxis\n",
    "    print('scaled', data)\n",
    "    data = np.reshape(data, (1, len(data)))\n",
    "    df_scaled[cols[i]] = data[0]\n",
    "    \n",
    "\n",
    "# for data in datas:\n",
    "#     data_scaled = np.concatenate((data_scaled, data), axis=1)\n",
    "\n",
    "# scaler = MinMaxScaler() \n",
    "# data_scaled = scaler.fit_transform(data_array)\n",
    "# df_scaled = pd.DataFrame(data_scaled, columns=cols)\n",
    "\n",
    "display(df_scaled.head())\n",
    "\n",
    "# results in 0s ?? \n",
    "# scaler_y = MinMaxScaler()\n",
    "# scaler_y.fit_transform( [np.float32( np.diff(np.log(df['Close'] )  , axis=0)  )])\n",
    "\n",
    "\n",
    "\n",
    "\n",
    "# cols = ['Timestamp','Volume_BTC', 'Bitcoin_Adj', 'Close']\n",
    "\n",
    "# for col in cols:\n",
    "#     df[col] = scaler.fit_transform([df[col].values])\n",
    "\n",
    "# X = df[['Timestamp', 'Volume_BTC', 'Bitcoin_Adj']].values\n",
    "# Y = df['Close'].values\n",
    "\n",
    "\n",
    "# X_train, X_test = X[1:train_size], X[train_size:len(X)]\n",
    "# Y_train, Y_test = Y[1:train_size], Y[train_size:len(X)]\n",
    "# print('Observations: %d' % (len(X)))\n",
    "# print('Training Observations: %d' % (len(X_train)))\n",
    "# print('Testing Observations: %d' % (len(Y_test)))\n"
   ]
  },
  {
   "cell_type": "code",
   "execution_count": 23,
   "metadata": {},
   "outputs": [],
   "source": [
    "# split and reshape data to feed into RNN\n",
    "\n",
    "#X_timestamp = df_scaled['Timestamp'].values\n",
    "X_volume = df_scaled['Volume_BTC'].values\n",
    "X_trends = df_scaled['Bitcoin_Adj'].values\n",
    "X_lagged_price = df_scaled['Price_lagged'].values\n",
    "\n",
    "Y_price = df_scaled['Close'].values\n",
    "\n",
    "train_size = int(len(X_volume) * 0.85)\n",
    "train_size = int(train_size/10) * 10 \n",
    "\n",
    "test_size_index = int(len(X_volume)/10)*10\n",
    "\n",
    "#X_train_timestamp, X_test_timestamp = X_timestamp[:train_size], X_timestamp[train_size:test_size_index ]\n",
    "X_train_volume, X_test_volume = X_volume[:train_size], X_volume[train_size:test_size_index ]\n",
    "X_train_trends, X_test_trends = X_trends[:train_size], X_trends[train_size:test_size_index ]\n",
    "X_train_lagged_price, X_test_lagged_price = X_lagged_price[:train_size], X_lagged_price[train_size:test_size_index ]\n",
    "\n",
    "Y_train_price, Y_test_price = Y_price[:train_size], Y_price[train_size:test_size_index ]\n",
    "\n",
    "\n",
    "# X.shape is (samples, timesteps, dimension) \n",
    "# timestemps is 15, samples is just however many nobs there are (but it doesn't matter, so it should be None)\n",
    "\n",
    "\n",
    "\n",
    "# X_train_timestamp = np.reshape(X_train_timestamp, (int(X_train_timestamp.shape[0]/data_length),data_length,1) ) \n",
    "X_train_volume = np.reshape(X_train_volume, (int(X_train_volume.shape[0]/data_length),data_length,1) ) \n",
    "X_train_trends = np.reshape(X_train_trends, (int(X_train_trends.shape[0]/data_length),data_length,1) ) \n",
    "X_train_lagged_price = np.reshape(X_train_lagged_price, (int(X_train_lagged_price.shape[0]/data_length), data_length, 1))\n",
    "\n",
    "# X_test_timestamp = np.reshape(X_test_timestamp, (int(X_test_timestamp.shape[0]/data_length),data_length,1) ) \n",
    "X_test_volume = np.reshape(X_test_volume, (int(X_test_volume.shape[0]/data_length),data_length,1) ) \n",
    "X_test_trends = np.reshape(X_test_trends, (int(X_test_trends.shape[0]/data_length),data_length,1) )  \n",
    "X_test_lagged_price = np.reshape(X_test_lagged_price, (int(X_test_lagged_price.shape[0]/data_length),data_length,1))\n",
    "\n",
    "\n",
    "# Don't need the 1 for the third dimension for Y's??\n",
    "\n",
    "\n",
    "Y_train_price = np.reshape(Y_train_price, (int(Y_train_price.shape[0]/data_length),  data_length) ) \n",
    "Y_test_price = np.reshape(Y_test_price, (int(Y_test_price.shape[0]/data_length),  data_length) ) "
   ]
  },
  {
   "cell_type": "code",
   "execution_count": 24,
   "metadata": {},
   "outputs": [
    {
     "name": "stdout",
     "output_type": "stream",
     "text": [
      "Train on 2386 samples, validate on 421 samples\n",
      "Epoch 1/10\n",
      "2386/2386 [==============================] - 4s - loss: 0.0153 - val_loss: 0.0037\n",
      "Epoch 2/10\n",
      "2386/2386 [==============================] - 3s - loss: 0.0019 - val_loss: 0.0039\n",
      "Epoch 3/10\n",
      "2386/2386 [==============================] - 3s - loss: 0.0018 - val_loss: 0.0036\n",
      "Epoch 4/10\n",
      "2386/2386 [==============================] - 3s - loss: 0.0017 - val_loss: 0.0033\n",
      "Epoch 5/10\n",
      "2386/2386 [==============================] - 3s - loss: 0.0016 - val_loss: 0.0036\n",
      "Epoch 6/10\n",
      "2386/2386 [==============================] - 3s - loss: 0.0016 - val_loss: 0.0041\n",
      "Epoch 7/10\n",
      "2386/2386 [==============================] - 3s - loss: 0.0015 - val_loss: 0.0034\n",
      "Epoch 8/10\n",
      "2386/2386 [==============================] - 3s - loss: 0.0015 - val_loss: 0.0033\n",
      "Epoch 9/10\n",
      "2386/2386 [==============================] - 3s - loss: 0.0014 - val_loss: 0.0039\n",
      "Epoch 10/10\n",
      "2386/2386 [==============================] - 3s - loss: 0.0014 - val_loss: 0.0029\n"
     ]
    }
   ],
   "source": [
    "features = ['Volume_BTC', 'Bitcoin_Adj', 'Price_lagged']\n",
    "\n",
    "rnn = build_model(features, 10, 10) \n",
    "\n",
    "tensorboard_callback = TensorBoard(log_dir='./Graph', histogram_freq=0, write_graph=True, write_images=True)\n",
    "\n",
    "history = rnn.fit(\n",
    "    [\n",
    "        #X_train_timestamp,\n",
    "        X_train_volume,\n",
    "        X_train_trends,\n",
    "        X_train_lagged_price\n",
    "    ],\n",
    "    [\n",
    "        Y_train_price\n",
    "    ]\n",
    "    ,\n",
    "    validation_data=(\n",
    "        [\n",
    "            #X_test_timestamp,\n",
    "            X_test_volume,\n",
    "            X_test_trends,\n",
    "            X_test_lagged_price\n",
    "        ],\n",
    "        [\n",
    "            Y_test_price\n",
    "        ]),\n",
    "    epochs=10,\n",
    "    batch_size=32,\n",
    "    callbacks=[\n",
    "      tensorboard_callback\n",
    "    ],\n",
    "    verbose=1\n",
    ")\n"
   ]
  },
  {
   "cell_type": "code",
   "execution_count": 25,
   "metadata": {},
   "outputs": [
    {
     "data": {
      "image/png": "[encoded data removed]",
      "text/plain": [
       "<matplotlib.figure.Figure at 0x219cf5dd978>"
      ]
     },
     "metadata": {},
     "output_type": "display_data"
    }
   ],
   "source": [
    "from matplotlib import pyplot as plt\n",
    "\n",
    "# plot history\n",
    "plt.plot(history.history['loss'], label='train')\n",
    "plt.plot(history.history['val_loss'], label='test')\n",
    "plt.legend()\n",
    "plt.show();"
   ]
  },
  {
   "cell_type": "code",
   "execution_count": 26,
   "metadata": {},
   "outputs": [
    {
     "name": "stdout",
     "output_type": "stream",
     "text": [
      "320/421 [=====================>........] - ETA: 0s0.00286750151912\n"
     ]
    }
   ],
   "source": [
    "score = rnn.evaluate(\n",
    "    [\n",
    "        #X_test_timestamp,\n",
    "        X_test_volume,\n",
    "        X_test_trends,\n",
    "        X_test_lagged_price\n",
    "    ],\n",
    "    [\n",
    "        Y_test_price\n",
    "    ])\n",
    "\n",
    "print(score)"
   ]
  },
  {
   "cell_type": "code",
   "execution_count": 27,
   "metadata": {},
   "outputs": [
    {
     "data": {
      "text/plain": [
       "array([ 0.99978453,  0.99410064,  1.00249946, ...,  1.83841958,\n",
       "        1.83620136,  1.83263589])"
      ]
     },
     "metadata": {},
     "output_type": "display_data"
    },
    {
     "name": "stdout",
     "output_type": "stream",
     "text": [
      "Test RMSE: 2.364\n"
     ]
    },
    {
     "data": {
      "image/png": "[encoded data removed]",
      "text/plain": [
       "<matplotlib.figure.Figure at 0x219daf19470>"
      ]
     },
     "metadata": {},
     "output_type": "display_data"
    }
   ],
   "source": [
    "from sklearn.metrics import mean_squared_error\n",
    "from math import sqrt \n",
    "\n",
    "yhat = rnn.predict( \n",
    "    [\n",
    "        #X_test_timestamp,\n",
    "        X_test_volume,\n",
    "        X_test_trends,\n",
    "        X_test_lagged_price\n",
    "    ],\n",
    "    verbose=0\n",
    ")\n",
    "\n",
    "# invert scaling \n",
    "inv_yhat = yhat.reshape((test_size_index - train_size, 1 ))# it forecasts the next 10 hours, so just reshape to 1D \n",
    "inv_yhat = scalers['Close'].inverse_transform(inv_yhat)  \n",
    "yhat = np.exp(np.cumsum(inv_yhat)) # undo log difference to get original \n",
    "\n",
    "Y_test_price = Y_test_price.reshape((test_size_index - train_size, 1 ))\n",
    "Y_test_price_inv = scalers['Close'].inverse_transform(Y_test_price) \n",
    "Y_test_price_inv = np.exp(np.cumsum( Y_test_price_inv   ))  \n",
    "display(Y_test_price_inv)\n",
    "\n",
    "#Y_test_price_inv = np.exp(np.cumsum(   np.concatenate( ( df['Close'].iloc[0]  ,Y_test_price_inv )  )   ))  # np.concatenate(([x[0]], x_diff))\n",
    "\n",
    "rmse = sqrt(mean_squared_error(Y_test_price_inv[1:], yhat[1:]))\n",
    "print('Test RMSE: %.3f' % rmse)\n",
    "\n",
    "plt.plot(Y_test_price_inv, label='actual')\n",
    "plt.plot(yhat, label='predicted')\n",
    "plt.legend()\n",
    "plt.show();\n",
    "\n"
   ]
  },
  {
   "cell_type": "code",
   "execution_count": 28,
   "metadata": {
    "collapsed": true
   },
   "outputs": [],
   "source": [
    "# serialize model to JSON\n",
    "model_json = rnn.to_json()\n",
    "with open(\"model.json\", \"w\") as json_file:\n",
    "    json_file.write(model_json)\n",
    "    \n",
    "# serialize weights to HDF5\n",
    "rnn.save_weights(\"model.h5\")\n"
   ]
  },
  {
   "cell_type": "code",
   "execution_count": null,
   "metadata": {
    "collapsed": true
   },
   "outputs": [],
   "source": [
    "# Probably need to change up x and y to frame it as a supervising problem -> look online to that one article\n",
    "# also scale it from 0 to 1 \n",
    "# remove seasonality \n",
    "# Change timestamp into some categorial input, not just a timestamp \n",
    "\n",
    "# look into if min-max scaling actually worked properly \n",
    "\n",
    "# Finally min-max scaled correctly so figure out how to unscale it (invert and undo log difference)"
   ]
  }
 ],
 "metadata": {
  "kernelspec": {
   "display_name": "Python [conda env:tensorflow]",
   "language": "python",
   "name": "conda-env-tensorflow-py"
  },
  "language_info": {
   "codemirror_mode": {
    "name": "ipython",
    "version": 3
   },
   "file_extension": ".py",
   "mimetype": "text/x-python",
   "name": "python",
   "nbconvert_exporter": "python",
   "pygments_lexer": "ipython3",
   "version": "3.5.4"
  }
 },
 "nbformat": 4,
 "nbformat_minor": 2
}
