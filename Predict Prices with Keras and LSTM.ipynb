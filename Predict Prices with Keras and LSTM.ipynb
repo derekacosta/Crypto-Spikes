{
 "cells": [
  {
   "cell_type": "code",
   "execution_count": 64,
   "metadata": {},
   "outputs": [],
   "source": [
    "import pandas as pd\n",
    "import numpy as np\n",
    "\n",
    "from keras import Input\n",
    "from keras.engine import Model\n",
    "from keras.layers.core import Dense, Activation\n",
    "from keras.layers.recurrent import LSTM\n",
    "from keras.layers import Concatenate, concatenate\n",
    "from keras.callbacks import TensorBoard"
   ]
  },
  {
   "cell_type": "code",
   "execution_count": 65,
   "metadata": {
    "collapsed": true
   },
   "outputs": [],
   "source": [
    "# features is a list of strings of feature names \n",
    "\n",
    "def build_model(features, data_length, label_length):\n",
    "    \n",
    "    inputs_list = [] \n",
    "    for feature_name in features:\n",
    "        inputs_list.append((Input(shape=(data_length,1), name=feature_name)))\n",
    "    \n",
    "    layers = [] \n",
    "    for i, input_name in enumerate(inputs_list): \n",
    "        layers.append(LSTM(64, return_sequences=False)(inputs_list[i]) )\n",
    "        \n",
    "    output = concatenate(layers) \n",
    "    output = Dense(label_length, activation='linear', name='weighted_average_output')(output)\n",
    "    \n",
    "    model = Model(\n",
    "        inputs = inputs_list,\n",
    "        outputs = [output]\n",
    "    )\n",
    "    \n",
    "    model.compile(optimizer='rmsprop', loss='mse')\n",
    "    \n",
    "    return model    \n",
    "        \n",
    "data_length = 10\n",
    "label_length = 10"
   ]
  },
  {
   "cell_type": "code",
   "execution_count": 66,
   "metadata": {},
   "outputs": [
    {
     "name": "stderr",
     "output_type": "stream",
     "text": [
      "C:\\Users\\Shoya\\Anaconda2\\envs\\tensorflow\\lib\\site-packages\\ipykernel\\__main__.py:5: SettingWithCopyWarning: \n",
      "A value is trying to be set on a copy of a slice from a DataFrame.\n",
      "Try using .loc[row_indexer,col_indexer] = value instead\n",
      "\n",
      "See the caveats in the documentation: http://pandas.pydata.org/pandas-docs/stable/indexing.html#indexing-view-versus-copy\n",
      "C:\\Users\\Shoya\\Anaconda2\\envs\\tensorflow\\lib\\site-packages\\ipykernel\\__main__.py:6: SettingWithCopyWarning: \n",
      "A value is trying to be set on a copy of a slice from a DataFrame.\n",
      "Try using .loc[row_indexer,col_indexer] = value instead\n",
      "\n",
      "See the caveats in the documentation: http://pandas.pydata.org/pandas-docs/stable/indexing.html#indexing-view-versus-copy\n"
     ]
    }
   ],
   "source": [
    "master_df = pd.read_csv('C:/Users/Shoya/surf/data/master_df.csv', encoding='latin1')\n",
    "df = master_df[['Timestamp', 'Close', 'Volume_(BTC)', 'Volume_(Currency)', 'Date(UTC)', 'Bitcoin (Adj.Overlap)', \n",
    "               'Close Price % Change', 'Close Price % Change (Abs)', 'Is Spike']]\n",
    "\n",
    "df['Volume_BTC'] = df['Volume_(BTC)']\n",
    "df['Bitcoin_Adj'] = df['Bitcoin (Adj.Overlap)']\n",
    "\n",
    "\n",
    "# X = df[['Timestamp', 'Volume_BTC', 'Bitcoin_Adj']].values\n",
    "# Y = df['Close'].values\n",
    "\n",
    "\n",
    "# X_train, X_test = X[1:train_size], X[train_size:len(X)]\n",
    "# Y_train, Y_test = Y[1:train_size], Y[train_size:len(X)]\n",
    "# print('Observations: %d' % (len(X)))\n",
    "# print('Training Observations: %d' % (len(X_train)))\n",
    "# print('Testing Observations: %d' % (len(Y_test)))\n",
    "\n",
    "X_timestamp = df['Timestamp'].values\n",
    "X_volume = df['Volume_BTC'].values\n",
    "X_trends = df['Bitcoin_Adj'].values\n",
    "\n",
    "Y_price = df['Close'].values\n",
    "\n",
    "train_size = int(len(X_timestamp) * 0.85)\n",
    "train_size = int(train_size/10) * 10 \n",
    "\n",
    "test_size_index = int(len(X_timestamp)/10)*10\n",
    "\n",
    "X_train_timestamp, X_test_timestamp = X_timestamp[:train_size], X_timestamp[train_size:test_size_index ]\n",
    "X_train_volume, X_test_volume = X_volume[:train_size], X_volume[train_size:test_size_index ]\n",
    "X_train_trends, X_test_trends = X_trends[:train_size], X_trends[train_size:test_size_index ]\n",
    "\n",
    "Y_train_price, Y_test_price = Y_price[:train_size], Y_price[train_size:test_size_index ]\n",
    "\n",
    "\n",
    "# X.shape is (samples, timesteps, dimension) \n",
    "# timestemps is 15, samples is just however many nobs there are (but it doesn't matter, so it should be None)\n",
    "\n",
    "\n",
    "X_train_timestamp = np.reshape(X_train_timestamp, (int(X_train_timestamp.shape[0]/data_length),data_length,1) ) \n",
    "X_train_volume = np.reshape(X_train_volume, (int(X_train_volume.shape[0]/data_length),data_length,1) ) \n",
    "X_train_trends = np.reshape(X_train_trends, (int(X_train_trends.shape[0]/data_length),data_length,1) ) \n",
    "\n",
    "X_test_timestamp = np.reshape(X_test_timestamp, (int(X_test_timestamp.shape[0]/data_length),data_length,1) ) \n",
    "X_test_volume = np.reshape(X_test_volume, (int(X_test_volume.shape[0]/data_length),data_length,1) ) \n",
    "X_test_trends = np.reshape(X_test_trends, (int(X_test_trends.shape[0]/data_length),data_length,1) )  \n",
    "\n",
    "\n",
    "# Don't need the 1 for the third dimension for Y's??\n",
    "\n",
    "# Y_train_price = np.reshape(Y_train_price, (int(Y_train_price.shape[0]/data_length),  data_length) ) \n",
    "# Y_test_price = np.reshape(Y_test_price, (int(Y_test_price.shape[0]/data_length),  data_length) ) \n",
    "\n",
    "Y_train_price = np.reshape(Y_train_price, (int(Y_train_price.shape[0]/data_length),  data_length) ) \n",
    "Y_test_price = np.reshape(Y_test_price, (int(Y_test_price.shape[0]/data_length),  data_length) ) \n",
    "\n"
   ]
  },
  {
   "cell_type": "code",
   "execution_count": 67,
   "metadata": {},
   "outputs": [
    {
     "name": "stdout",
     "output_type": "stream",
     "text": [
      "Train on 2387 samples, validate on 421 samples\n",
      "Epoch 1/2\n",
      "8s - loss: nan - val_loss: nan\n",
      "Epoch 2/2\n",
      "7s - loss: nan - val_loss: nan\n"
     ]
    },
    {
     "data": {
      "text/plain": [
       "<keras.callbacks.History at 0x2ed5a683a20>"
      ]
     },
     "execution_count": 67,
     "metadata": {},
     "output_type": "execute_result"
    }
   ],
   "source": [
    "features = ['Timestamp', 'Volume_BTC', 'Bitcoin_Adj'] # NEED TO ADD PREVIOUS PRICES! \n",
    "\n",
    "rnn = build_model(features, 10, 10) \n",
    "\n",
    "tensorboard_callback = TensorBoard(log_dir='./Graph', histogram_freq=0, write_graph=True, write_images=True)\n",
    "\n",
    "rnn.fit(\n",
    "    [\n",
    "        X_train_timestamp,\n",
    "        X_train_volume,\n",
    "        X_train_trends\n",
    "    ],\n",
    "    [\n",
    "        Y_train_price\n",
    "    ]\n",
    "    ,\n",
    "    validation_data=(\n",
    "        [\n",
    "            X_test_timestamp,\n",
    "            X_test_volume,\n",
    "            X_test_trends\n",
    "        ],\n",
    "        [\n",
    "            Y_test_price\n",
    "        ]),\n",
    "    epochs=2,\n",
    "    batch_size=10,\n",
    "    callbacks=[\n",
    "      tensorboard_callback\n",
    "    ],\n",
    "    verbose=2\n",
    ")\n"
   ]
  },
  {
   "cell_type": "code",
   "execution_count": 68,
   "metadata": {},
   "outputs": [
    {
     "name": "stdout",
     "output_type": "stream",
     "text": [
      "390/421 [==========================>...] - ETA: 0s"
     ]
    }
   ],
   "source": [
    "score = rnn.evaluate(\n",
    "    [\n",
    "        X_test_timestamp,\n",
    "        X_test_volume,\n",
    "        X_test_trends\n",
    "    ],\n",
    "    [\n",
    "        Y_test_price\n",
    "    ], \n",
    "    batch_size=10)"
   ]
  },
  {
   "cell_type": "code",
   "execution_count": null,
   "metadata": {
    "collapsed": true
   },
   "outputs": [],
   "source": [
    "# Probably need to change up x and y to frame it as a supervising problem -> look online to that one article\n",
    "# also scale it from 0 to 1 "
   ]
  }
 ],
 "metadata": {
  "kernelspec": {
   "display_name": "Python [conda env:tensorflow]",
   "language": "python",
   "name": "conda-env-tensorflow-py"
  },
  "language_info": {
   "codemirror_mode": {
    "name": "ipython",
    "version": 3
   },
   "file_extension": ".py",
   "mimetype": "text/x-python",
   "name": "python",
   "nbconvert_exporter": "python",
   "pygments_lexer": "ipython3",
   "version": "3.5.4"
  }
 },
 "nbformat": 4,
 "nbformat_minor": 2
}
