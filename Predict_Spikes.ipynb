{
 "cells": [
  {
   "cell_type": "code",
   "execution_count": 2,
   "metadata": {
    "collapsed": true
   },
   "outputs": [],
   "source": [
    "import pandas as pd \n",
    "import numpy as np \n",
    "from matplotlib import pyplot as plt "
   ]
  },
  {
   "cell_type": "code",
   "execution_count": 3,
   "metadata": {
    "scrolled": true
   },
   "outputs": [
    {
     "data": {
      "text/html": [
       "<div>\n",
       "<style>\n",
       "    .dataframe thead tr:only-child th {\n",
       "        text-align: right;\n",
       "    }\n",
       "\n",
       "    .dataframe thead th {\n",
       "        text-align: left;\n",
       "    }\n",
       "\n",
       "    .dataframe tbody tr th {\n",
       "        vertical-align: top;\n",
       "    }\n",
       "</style>\n",
       "<table border=\"1\" class=\"dataframe\">\n",
       "  <thead>\n",
       "    <tr style=\"text-align: right;\">\n",
       "      <th></th>\n",
       "      <th>Unnamed: 0</th>\n",
       "      <th>Timestamp</th>\n",
       "      <th>Open</th>\n",
       "      <th>High</th>\n",
       "      <th>Low</th>\n",
       "      <th>Close</th>\n",
       "      <th>Volume_(BTC)</th>\n",
       "      <th>Volume_(Currency)</th>\n",
       "      <th>Weighted_Price</th>\n",
       "      <th>Date(UTC)</th>\n",
       "      <th>...</th>\n",
       "      <th>Close Price % Change</th>\n",
       "      <th>Close Price % Change (Abs)</th>\n",
       "      <th>Is Price Anomaly (Bitmap Detector)</th>\n",
       "      <th>Is Price Anomaly (Derivative Detector)</th>\n",
       "      <th>Is Price % Change Anomaly (Bitmap Detector)</th>\n",
       "      <th>Is Trend Anomaly (Bitmap Detector)</th>\n",
       "      <th>Moving Average Price</th>\n",
       "      <th>Moving Average Price % Change</th>\n",
       "      <th>MA % Change (Abs.Value)</th>\n",
       "      <th>Is Spike</th>\n",
       "    </tr>\n",
       "  </thead>\n",
       "  <tbody>\n",
       "    <tr>\n",
       "      <th>0</th>\n",
       "      <td>0</td>\n",
       "      <td>1420840800</td>\n",
       "      <td>289.59</td>\n",
       "      <td>289.94</td>\n",
       "      <td>289.13</td>\n",
       "      <td>289.13</td>\n",
       "      <td>34.042422</td>\n",
       "      <td>9854.490388</td>\n",
       "      <td>289.476771</td>\n",
       "      <td>2015-01-09 22:00:00</td>\n",
       "      <td>...</td>\n",
       "      <td>NaN</td>\n",
       "      <td>NaN</td>\n",
       "      <td>0</td>\n",
       "      <td>0</td>\n",
       "      <td>0</td>\n",
       "      <td>0</td>\n",
       "      <td>NaN</td>\n",
       "      <td>NaN</td>\n",
       "      <td>NaN</td>\n",
       "      <td>0</td>\n",
       "    </tr>\n",
       "    <tr>\n",
       "      <th>1</th>\n",
       "      <td>1</td>\n",
       "      <td>1420844400</td>\n",
       "      <td>293.61</td>\n",
       "      <td>293.61</td>\n",
       "      <td>292.15</td>\n",
       "      <td>292.15</td>\n",
       "      <td>36.628012</td>\n",
       "      <td>10733.474260</td>\n",
       "      <td>293.040042</td>\n",
       "      <td>2015-01-09 23:00:00</td>\n",
       "      <td>...</td>\n",
       "      <td>0.010445</td>\n",
       "      <td>0.010445</td>\n",
       "      <td>0</td>\n",
       "      <td>0</td>\n",
       "      <td>0</td>\n",
       "      <td>0</td>\n",
       "      <td>NaN</td>\n",
       "      <td>NaN</td>\n",
       "      <td>NaN</td>\n",
       "      <td>1</td>\n",
       "    </tr>\n",
       "    <tr>\n",
       "      <th>2</th>\n",
       "      <td>2</td>\n",
       "      <td>1420848000</td>\n",
       "      <td>293.89</td>\n",
       "      <td>293.89</td>\n",
       "      <td>293.89</td>\n",
       "      <td>293.89</td>\n",
       "      <td>0.158015</td>\n",
       "      <td>46.439149</td>\n",
       "      <td>293.890000</td>\n",
       "      <td>2015-01-10 00:00:00</td>\n",
       "      <td>...</td>\n",
       "      <td>0.005956</td>\n",
       "      <td>0.005956</td>\n",
       "      <td>0</td>\n",
       "      <td>0</td>\n",
       "      <td>0</td>\n",
       "      <td>0</td>\n",
       "      <td>291.723333</td>\n",
       "      <td>NaN</td>\n",
       "      <td>NaN</td>\n",
       "      <td>0</td>\n",
       "    </tr>\n",
       "    <tr>\n",
       "      <th>3</th>\n",
       "      <td>3</td>\n",
       "      <td>1420851600</td>\n",
       "      <td>289.20</td>\n",
       "      <td>289.20</td>\n",
       "      <td>289.10</td>\n",
       "      <td>289.10</td>\n",
       "      <td>30.985828</td>\n",
       "      <td>8960.344674</td>\n",
       "      <td>289.175573</td>\n",
       "      <td>2015-01-10 01:00:00</td>\n",
       "      <td>...</td>\n",
       "      <td>-0.016299</td>\n",
       "      <td>0.016299</td>\n",
       "      <td>0</td>\n",
       "      <td>0</td>\n",
       "      <td>0</td>\n",
       "      <td>0</td>\n",
       "      <td>291.713333</td>\n",
       "      <td>-0.000034</td>\n",
       "      <td>0.000034</td>\n",
       "      <td>-1</td>\n",
       "    </tr>\n",
       "    <tr>\n",
       "      <th>4</th>\n",
       "      <td>4</td>\n",
       "      <td>1420855200</td>\n",
       "      <td>289.18</td>\n",
       "      <td>289.18</td>\n",
       "      <td>288.57</td>\n",
       "      <td>288.59</td>\n",
       "      <td>7.694195</td>\n",
       "      <td>2224.105007</td>\n",
       "      <td>289.062740</td>\n",
       "      <td>2015-01-10 02:00:00</td>\n",
       "      <td>...</td>\n",
       "      <td>-0.001764</td>\n",
       "      <td>0.001764</td>\n",
       "      <td>0</td>\n",
       "      <td>0</td>\n",
       "      <td>0</td>\n",
       "      <td>0</td>\n",
       "      <td>290.526667</td>\n",
       "      <td>-0.004068</td>\n",
       "      <td>0.004068</td>\n",
       "      <td>0</td>\n",
       "    </tr>\n",
       "  </tbody>\n",
       "</table>\n",
       "<p>5 rows × 25 columns</p>\n",
       "</div>"
      ],
      "text/plain": [
       "   Unnamed: 0   Timestamp    Open    High     Low   Close  Volume_(BTC)  \\\n",
       "0           0  1420840800  289.59  289.94  289.13  289.13     34.042422   \n",
       "1           1  1420844400  293.61  293.61  292.15  292.15     36.628012   \n",
       "2           2  1420848000  293.89  293.89  293.89  293.89      0.158015   \n",
       "3           3  1420851600  289.20  289.20  289.10  289.10     30.985828   \n",
       "4           4  1420855200  289.18  289.18  288.57  288.59      7.694195   \n",
       "\n",
       "   Volume_(Currency)  Weighted_Price            Date(UTC)    ...     \\\n",
       "0        9854.490388      289.476771  2015-01-09 22:00:00    ...      \n",
       "1       10733.474260      293.040042  2015-01-09 23:00:00    ...      \n",
       "2          46.439149      293.890000  2015-01-10 00:00:00    ...      \n",
       "3        8960.344674      289.175573  2015-01-10 01:00:00    ...      \n",
       "4        2224.105007      289.062740  2015-01-10 02:00:00    ...      \n",
       "\n",
       "  Close Price % Change  Close Price % Change (Abs)  \\\n",
       "0                  NaN                         NaN   \n",
       "1             0.010445                    0.010445   \n",
       "2             0.005956                    0.005956   \n",
       "3            -0.016299                    0.016299   \n",
       "4            -0.001764                    0.001764   \n",
       "\n",
       "   Is Price Anomaly (Bitmap Detector) Is Price Anomaly (Derivative Detector)  \\\n",
       "0                                   0                                      0   \n",
       "1                                   0                                      0   \n",
       "2                                   0                                      0   \n",
       "3                                   0                                      0   \n",
       "4                                   0                                      0   \n",
       "\n",
       "   Is Price % Change Anomaly (Bitmap Detector)  \\\n",
       "0                                            0   \n",
       "1                                            0   \n",
       "2                                            0   \n",
       "3                                            0   \n",
       "4                                            0   \n",
       "\n",
       "   Is Trend Anomaly (Bitmap Detector)  Moving Average Price  \\\n",
       "0                                   0                   NaN   \n",
       "1                                   0                   NaN   \n",
       "2                                   0            291.723333   \n",
       "3                                   0            291.713333   \n",
       "4                                   0            290.526667   \n",
       "\n",
       "   Moving Average Price % Change  MA % Change (Abs.Value)  Is Spike  \n",
       "0                            NaN                      NaN         0  \n",
       "1                            NaN                      NaN         1  \n",
       "2                            NaN                      NaN         0  \n",
       "3                      -0.000034                 0.000034        -1  \n",
       "4                      -0.004068                 0.004068         0  \n",
       "\n",
       "[5 rows x 25 columns]"
      ]
     },
     "metadata": {},
     "output_type": "display_data"
    },
    {
     "data": {
      "text/plain": [
       "Index(['Unnamed: 0', 'Timestamp', 'Open', 'High', 'Low', 'Close',\n",
       "       'Volume_(BTC)', 'Volume_(Currency)', 'Weighted_Price', 'Date(UTC)',\n",
       "       'date', 'Bitcoin (Adj.Overlap)', 'isPartial', 'Date_UTC_trend',\n",
       "       'Bitcoin (Unadj.)', 'Close Price % Change',\n",
       "       'Close Price % Change (Abs)', 'Is Price Anomaly (Bitmap Detector)',\n",
       "       'Is Price Anomaly (Derivative Detector)',\n",
       "       'Is Price % Change Anomaly (Bitmap Detector)',\n",
       "       'Is Trend Anomaly (Bitmap Detector)', 'Moving Average Price',\n",
       "       'Moving Average Price % Change', 'MA % Change (Abs.Value)', 'Is Spike'],\n",
       "      dtype='object')"
      ]
     },
     "metadata": {},
     "output_type": "display_data"
    }
   ],
   "source": [
    "master_df = pd.read_csv('C:/Users/Shoya/surf/data/master_df.csv', encoding='latin1')\n",
    "display(master_df.head())\n",
    "display(master_df.columns)"
   ]
  },
  {
   "cell_type": "code",
   "execution_count": 4,
   "metadata": {
    "scrolled": true
   },
   "outputs": [
    {
     "data": {
      "text/html": [
       "<div>\n",
       "<style>\n",
       "    .dataframe thead tr:only-child th {\n",
       "        text-align: right;\n",
       "    }\n",
       "\n",
       "    .dataframe thead th {\n",
       "        text-align: left;\n",
       "    }\n",
       "\n",
       "    .dataframe tbody tr th {\n",
       "        vertical-align: top;\n",
       "    }\n",
       "</style>\n",
       "<table border=\"1\" class=\"dataframe\">\n",
       "  <thead>\n",
       "    <tr style=\"text-align: right;\">\n",
       "      <th></th>\n",
       "      <th>Timestamp</th>\n",
       "      <th>Close</th>\n",
       "      <th>Volume_(BTC)</th>\n",
       "      <th>Volume_(Currency)</th>\n",
       "      <th>Date(UTC)</th>\n",
       "      <th>Bitcoin (Adj.Overlap)</th>\n",
       "      <th>Close Price % Change</th>\n",
       "      <th>Close Price % Change (Abs)</th>\n",
       "      <th>Is Spike</th>\n",
       "    </tr>\n",
       "  </thead>\n",
       "  <tbody>\n",
       "    <tr>\n",
       "      <th>0</th>\n",
       "      <td>1420840800</td>\n",
       "      <td>289.13</td>\n",
       "      <td>34.042422</td>\n",
       "      <td>9854.490388</td>\n",
       "      <td>2015-01-09 22:00:00</td>\n",
       "      <td>53.0</td>\n",
       "      <td>NaN</td>\n",
       "      <td>NaN</td>\n",
       "      <td>0</td>\n",
       "    </tr>\n",
       "    <tr>\n",
       "      <th>1</th>\n",
       "      <td>1420844400</td>\n",
       "      <td>292.15</td>\n",
       "      <td>36.628012</td>\n",
       "      <td>10733.474260</td>\n",
       "      <td>2015-01-09 23:00:00</td>\n",
       "      <td>52.0</td>\n",
       "      <td>0.010445</td>\n",
       "      <td>0.010445</td>\n",
       "      <td>1</td>\n",
       "    </tr>\n",
       "  </tbody>\n",
       "</table>\n",
       "</div>"
      ],
      "text/plain": [
       "    Timestamp   Close  Volume_(BTC)  Volume_(Currency)            Date(UTC)  \\\n",
       "0  1420840800  289.13     34.042422        9854.490388  2015-01-09 22:00:00   \n",
       "1  1420844400  292.15     36.628012       10733.474260  2015-01-09 23:00:00   \n",
       "\n",
       "   Bitcoin (Adj.Overlap)  Close Price % Change  Close Price % Change (Abs)  \\\n",
       "0                   53.0                   NaN                         NaN   \n",
       "1                   52.0              0.010445                    0.010445   \n",
       "\n",
       "   Is Spike  \n",
       "0         0  \n",
       "1         1  "
      ]
     },
     "metadata": {},
     "output_type": "display_data"
    }
   ],
   "source": [
    "df = master_df[['Timestamp', 'Close', 'Volume_(BTC)', 'Volume_(Currency)', 'Date(UTC)', 'Bitcoin (Adj.Overlap)', \n",
    "               'Close Price % Change', 'Close Price % Change (Abs)', 'Is Spike']]\n",
    "display(df.head(2))"
   ]
  },
  {
   "cell_type": "code",
   "execution_count": 5,
   "metadata": {},
   "outputs": [
    {
     "name": "stdout",
     "output_type": "stream",
     "text": [
      "Observations: 28083\n",
      "Training Observations: 21061\n",
      "Testing Observations: 7021\n"
     ]
    },
    {
     "data": {
      "text/plain": [
       "array([[  1.42084440e+09,   2.92150000e+02,   3.66280122e+01,\n",
       "          5.20000000e+01,   1.04451280e-02],\n",
       "       [  1.42084800e+09,   2.93890000e+02,   1.58015410e-01,\n",
       "          5.20000000e+01,   5.95584500e-03],\n",
       "       [  1.42085160e+09,   2.89100000e+02,   3.09858284e+01,\n",
       "          5.60000000e+01,  -1.62986150e-02],\n",
       "       ..., \n",
       "       [  1.49682600e+09,   2.82193000e+03,   3.88509000e-03,\n",
       "          4.63711018e+02,  -4.33980300e-03],\n",
       "       [  1.49682960e+09,   2.85101000e+03,   3.64904602e+00,\n",
       "          4.42870073e+02,   1.03050040e-02],\n",
       "       [  1.49683320e+09,   2.85896000e+03,   1.24272591e+00,\n",
       "          4.11608656e+02,   2.78848500e-03]])"
      ]
     },
     "metadata": {},
     "output_type": "display_data"
    },
    {
     "data": {
      "text/plain": [
       "array([ 1,  0, -1, ...,  0,  1,  0], dtype=int64)"
      ]
     },
     "metadata": {},
     "output_type": "display_data"
    }
   ],
   "source": [
    "from sklearn.model_selection import train_test_split\n",
    "from sklearn.model_selection import TimeSeriesSplit\n",
    "\n",
    "# Preprocess\n",
    "\n",
    "\n",
    "tscv = TimeSeriesSplit(n_splits=2)\n",
    "\n",
    "X = df[['Timestamp', 'Close', 'Volume_(BTC)', 'Bitcoin (Adj.Overlap)', 'Close Price % Change']].values\n",
    "Y = df['Is Spike'].values\n",
    "\n",
    "train_size = int(len(X) * 0.75)\n",
    "X_train, X_test = X[1:train_size], X[train_size:len(X)]\n",
    "Y_train, Y_test = Y[1:train_size], Y[train_size:len(X)]\n",
    "print('Observations: %d' % (len(X)))\n",
    "print('Training Observations: %d' % (len(X_train)))\n",
    "print('Testing Observations: %d' % (len(Y_test)))\n",
    "\n",
    "\n",
    "display(X_train, Y_train)"
   ]
  },
  {
   "cell_type": "code",
   "execution_count": 7,
   "metadata": {},
   "outputs": [
    {
     "name": "stdout",
     "output_type": "stream",
     "text": [
      "Imputing missing values in feature set\n"
     ]
    },
    {
     "name": "stderr",
     "output_type": "stream",
     "text": [
      "                                                                                                                       \r"
     ]
    },
    {
     "name": "stdout",
     "output_type": "stream",
     "text": [
      "\n"
     ]
    },
    {
     "name": "stderr",
     "output_type": "stream",
     "text": [
      "                                                                                                                       \r"
     ]
    },
    {
     "name": "stdout",
     "output_type": "stream",
     "text": [
      "10.011504383333333 minutes have elapsed. TPOT will close down.\n",
      "TPOT closed prematurely. Will use the current best pipeline.\n"
     ]
    },
    {
     "name": "stderr",
     "output_type": "stream",
     "text": [
      "                                                                                                                       \r"
     ]
    },
    {
     "name": "stdout",
     "output_type": "stream",
     "text": [
      "\n",
      "Best pipeline: RandomForestClassifier(input_matrix, bootstrap=False, criterion=gini, max_features=0.35, min_samples_leaf=1, min_samples_split=7, n_estimators=100)\n"
     ]
    },
    {
     "data": {
      "text/plain": [
       "TPOTClassifier(config_dict={'sklearn.cluster.FeatureAgglomeration': {'linkage': ['ward', 'complete', 'average'], 'affinity': ['euclidean', 'l1', 'l2', 'manhattan', 'cosine']}, 'sklearn.decomposition.FastICA': {'tol': array([ 0.  ,  0.05,  0.1 ,  0.15,  0.2 ,  0.25,  0.3 ,  0.35,  0.4 ,\n",
       "        0.45,  0.5 ,  0.55, ...lacian', 'polynomial', 'poly', 'linear', 'additive_chi2', 'sigmoid'], 'n_components': range(1, 11)}},\n",
       "        crossover_rate=0.1,\n",
       "        cv=TimeSeriesSplit(max_train_size=None, n_splits=2),\n",
       "        disable_update_check=False, early_stop=None, generations=1000000,\n",
       "        max_eval_time_mins=5, max_time_mins=10, memory=None,\n",
       "        mutation_rate=0.9, n_jobs=1, offspring_size=100,\n",
       "        periodic_checkpoint_folder=None, population_size=100,\n",
       "        random_state=None, scoring=None, subsample=1.0, verbosity=2,\n",
       "        warm_start=False)"
      ]
     },
     "execution_count": 7,
     "metadata": {},
     "output_type": "execute_result"
    }
   ],
   "source": [
    "from tpot import TPOTClassifier \n",
    "\n",
    "tpot = TPOTClassifier(verbosity=2, max_time_mins=10,cv=tscv)\n",
    "tpot.fit(X_train, Y_train)"
   ]
  },
  {
   "cell_type": "code",
   "execution_count": 9,
   "metadata": {},
   "outputs": [
    {
     "data": {
      "text/plain": [
       "0.99715140293405502"
      ]
     },
     "execution_count": 9,
     "metadata": {},
     "output_type": "execute_result"
    }
   ],
   "source": [
    "tpot.score(X_test, Y_test)"
   ]
  },
  {
   "cell_type": "code",
   "execution_count": 11,
   "metadata": {},
   "outputs": [
    {
     "data": {
      "text/plain": [
       "True"
      ]
     },
     "execution_count": 11,
     "metadata": {},
     "output_type": "execute_result"
    }
   ],
   "source": [
    "tpot.export('tpot_crypto_spike_predictor.py')"
   ]
  },
  {
   "cell_type": "code",
   "execution_count": 14,
   "metadata": {},
   "outputs": [],
   "source": [
    "# The Result Code From TPOT\n",
    "from sklearn.ensemble import RandomForestClassifier\n",
    "from sklearn.model_selection import train_test_split\n",
    "from sklearn.preprocessing import Imputer\n",
    "\n",
    "#tpot_data = pd.read_csv('PATH/TO/DATA/FILE', sep='COLUMN_SEPARATOR', dtype=np.float64)\n",
    "tpot_data = df[['Timestamp', 'Close', 'Volume_(BTC)', 'Bitcoin (Adj.Overlap)', 'Close Price % Change', 'Is Spike']]\n",
    "features = tpot_data.drop('Is Spike', axis=1).values\n",
    "training_features, testing_features, training_target, testing_target = \\\n",
    "            train_test_split(features, tpot_data['Is Spike'].values, random_state=42)\n",
    "\n",
    "imputer = Imputer(strategy=\"median\")\n",
    "imputer.fit(training_features)\n",
    "training_features = imputer.transform(training_features)\n",
    "testing_features = imputer.transform(testing_features)\n",
    "\n",
    "# Score on the training set was:0.9998575498575499\n",
    "exported_pipeline = RandomForestClassifier(bootstrap=False, criterion=\"gini\", max_features=0.35000000000000003, min_samples_leaf=1, min_samples_split=7, n_estimators=100)\n",
    "\n",
    "exported_pipeline.fit(training_features, training_target)\n",
    "results = exported_pipeline.predict(testing_features)\n"
   ]
  },
  {
   "cell_type": "code",
   "execution_count": 19,
   "metadata": {},
   "outputs": [
    {
     "name": "stdout",
     "output_type": "stream",
     "text": [
      "0 0\n",
      "0 0\n",
      "0 0\n",
      "0 0\n",
      "1 1\n",
      "0 0\n",
      "0 0\n",
      "0 0\n",
      "-1 -1\n",
      "0 0\n",
      "0 0\n",
      "0 0\n",
      "1 1\n",
      "1 1\n",
      "0 0\n",
      "0 0\n",
      "-1 -1\n",
      "1 1\n",
      "0 0\n",
      "0 0\n",
      "0 0\n",
      "0 0\n",
      "0 0\n",
      "0 0\n",
      "0 0\n",
      "0 0\n",
      "0 0\n",
      "-1 -1\n",
      "0 0\n",
      "0 0\n",
      "1 1\n",
      "0 0\n",
      "0 0\n",
      "0 0\n",
      "0 0\n",
      "0 0\n",
      "-1 -1\n",
      "0 0\n",
      "1 1\n",
      "0 0\n",
      "0 0\n",
      "0 0\n",
      "0 0\n",
      "0 0\n",
      "0 0\n",
      "0 0\n",
      "1 1\n",
      "0 0\n",
      "0 0\n",
      "0 0\n",
      "0 0\n",
      "0 0\n",
      "0 0\n",
      "0 0\n",
      "0 0\n",
      "0 0\n",
      "0 0\n",
      "0 0\n",
      "0 0\n",
      "1 1\n",
      "0 0\n",
      "-1 -1\n",
      "-1 -1\n",
      "-1 -1\n",
      "0 0\n",
      "-1 -1\n",
      "0 0\n",
      "1 1\n",
      "-1 -1\n",
      "0 0\n",
      "-1 -1\n",
      "-1 -1\n",
      "0 0\n",
      "0 0\n",
      "0 0\n",
      "1 1\n",
      "-1 -1\n",
      "0 0\n",
      "0 0\n",
      "0 0\n",
      "0 0\n",
      "0 0\n",
      "1 1\n",
      "0 0\n",
      "0 0\n",
      "0 0\n",
      "0 0\n",
      "0 0\n",
      "0 0\n",
      "0 0\n",
      "0 0\n",
      "0 0\n",
      "0 0\n",
      "1 1\n",
      "0 0\n",
      "-1 -1\n",
      "0 0\n",
      "0 0\n",
      "0 0\n",
      "0 0\n"
     ]
    }
   ],
   "source": [
    "for i in range(100):\n",
    "    print(testing_target[i], results[i])"
   ]
  },
  {
   "cell_type": "code",
   "execution_count": null,
   "metadata": {
    "collapsed": true
   },
   "outputs": [],
   "source": []
  }
 ],
 "metadata": {
  "kernelspec": {
   "display_name": "Python [conda env:tensorflow]",
   "language": "python",
   "name": "conda-env-tensorflow-py"
  },
  "language_info": {
   "codemirror_mode": {
    "name": "ipython",
    "version": 3
   },
   "file_extension": ".py",
   "mimetype": "text/x-python",
   "name": "python",
   "nbconvert_exporter": "python",
   "pygments_lexer": "ipython3",
   "version": "3.5.4"
  }
 },
 "nbformat": 4,
 "nbformat_minor": 2
}
