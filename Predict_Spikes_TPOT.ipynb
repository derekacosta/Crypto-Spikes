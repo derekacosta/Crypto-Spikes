{
 "cells": [
  {
   "cell_type": "code",
   "execution_count": 1,
   "metadata": {
    "collapsed": true
   },
   "outputs": [],
   "source": [
    "import pandas as pd \n",
    "import numpy as np \n",
    "from matplotlib import pyplot as plt "
   ]
  },
  {
   "cell_type": "code",
   "execution_count": 2,
   "metadata": {
    "scrolled": true
   },
   "outputs": [
    {
     "data": {
      "text/html": [
       "<div>\n",
       "<style>\n",
       "    .dataframe thead tr:only-child th {\n",
       "        text-align: right;\n",
       "    }\n",
       "\n",
       "    .dataframe thead th {\n",
       "        text-align: left;\n",
       "    }\n",
       "\n",
       "    .dataframe tbody tr th {\n",
       "        vertical-align: top;\n",
       "    }\n",
       "</style>\n",
       "<table border=\"1\" class=\"dataframe\">\n",
       "  <thead>\n",
       "    <tr style=\"text-align: right;\">\n",
       "      <th></th>\n",
       "      <th>Unnamed: 0</th>\n",
       "      <th>Timestamp</th>\n",
       "      <th>Open</th>\n",
       "      <th>High</th>\n",
       "      <th>Low</th>\n",
       "      <th>Close</th>\n",
       "      <th>Volume_(BTC)</th>\n",
       "      <th>Volume_(Currency)</th>\n",
       "      <th>Weighted_Price</th>\n",
       "      <th>Date(UTC)</th>\n",
       "      <th>...</th>\n",
       "      <th>Close Price % Change</th>\n",
       "      <th>Close Price % Change (Abs)</th>\n",
       "      <th>Is Price Anomaly (Bitmap Detector)</th>\n",
       "      <th>Is Price Anomaly (Derivative Detector)</th>\n",
       "      <th>Is Price % Change Anomaly (Bitmap Detector)</th>\n",
       "      <th>Is Trend Anomaly (Bitmap Detector)</th>\n",
       "      <th>Moving Average Price</th>\n",
       "      <th>Moving Average Price % Change</th>\n",
       "      <th>MA % Change (Abs.Value)</th>\n",
       "      <th>Is Spike</th>\n",
       "    </tr>\n",
       "  </thead>\n",
       "  <tbody>\n",
       "    <tr>\n",
       "      <th>0</th>\n",
       "      <td>0</td>\n",
       "      <td>1420840800</td>\n",
       "      <td>289.59</td>\n",
       "      <td>289.94</td>\n",
       "      <td>289.13</td>\n",
       "      <td>289.13</td>\n",
       "      <td>34.042422</td>\n",
       "      <td>9854.490388</td>\n",
       "      <td>289.476771</td>\n",
       "      <td>2015-01-09 22:00:00</td>\n",
       "      <td>...</td>\n",
       "      <td>NaN</td>\n",
       "      <td>NaN</td>\n",
       "      <td>0</td>\n",
       "      <td>0</td>\n",
       "      <td>0</td>\n",
       "      <td>0</td>\n",
       "      <td>NaN</td>\n",
       "      <td>NaN</td>\n",
       "      <td>NaN</td>\n",
       "      <td>0</td>\n",
       "    </tr>\n",
       "    <tr>\n",
       "      <th>1</th>\n",
       "      <td>1</td>\n",
       "      <td>1420844400</td>\n",
       "      <td>293.61</td>\n",
       "      <td>293.61</td>\n",
       "      <td>292.15</td>\n",
       "      <td>292.15</td>\n",
       "      <td>36.628012</td>\n",
       "      <td>10733.474260</td>\n",
       "      <td>293.040042</td>\n",
       "      <td>2015-01-09 23:00:00</td>\n",
       "      <td>...</td>\n",
       "      <td>0.010445</td>\n",
       "      <td>0.010445</td>\n",
       "      <td>0</td>\n",
       "      <td>0</td>\n",
       "      <td>0</td>\n",
       "      <td>0</td>\n",
       "      <td>NaN</td>\n",
       "      <td>NaN</td>\n",
       "      <td>NaN</td>\n",
       "      <td>1</td>\n",
       "    </tr>\n",
       "    <tr>\n",
       "      <th>2</th>\n",
       "      <td>2</td>\n",
       "      <td>1420848000</td>\n",
       "      <td>293.89</td>\n",
       "      <td>293.89</td>\n",
       "      <td>293.89</td>\n",
       "      <td>293.89</td>\n",
       "      <td>0.158015</td>\n",
       "      <td>46.439149</td>\n",
       "      <td>293.890000</td>\n",
       "      <td>2015-01-10 00:00:00</td>\n",
       "      <td>...</td>\n",
       "      <td>0.005956</td>\n",
       "      <td>0.005956</td>\n",
       "      <td>0</td>\n",
       "      <td>0</td>\n",
       "      <td>0</td>\n",
       "      <td>0</td>\n",
       "      <td>291.723333</td>\n",
       "      <td>NaN</td>\n",
       "      <td>NaN</td>\n",
       "      <td>0</td>\n",
       "    </tr>\n",
       "    <tr>\n",
       "      <th>3</th>\n",
       "      <td>3</td>\n",
       "      <td>1420851600</td>\n",
       "      <td>289.20</td>\n",
       "      <td>289.20</td>\n",
       "      <td>289.10</td>\n",
       "      <td>289.10</td>\n",
       "      <td>30.985828</td>\n",
       "      <td>8960.344674</td>\n",
       "      <td>289.175573</td>\n",
       "      <td>2015-01-10 01:00:00</td>\n",
       "      <td>...</td>\n",
       "      <td>-0.016299</td>\n",
       "      <td>0.016299</td>\n",
       "      <td>0</td>\n",
       "      <td>0</td>\n",
       "      <td>0</td>\n",
       "      <td>0</td>\n",
       "      <td>291.713333</td>\n",
       "      <td>-0.000034</td>\n",
       "      <td>0.000034</td>\n",
       "      <td>-1</td>\n",
       "    </tr>\n",
       "    <tr>\n",
       "      <th>4</th>\n",
       "      <td>4</td>\n",
       "      <td>1420855200</td>\n",
       "      <td>289.18</td>\n",
       "      <td>289.18</td>\n",
       "      <td>288.57</td>\n",
       "      <td>288.59</td>\n",
       "      <td>7.694195</td>\n",
       "      <td>2224.105007</td>\n",
       "      <td>289.062740</td>\n",
       "      <td>2015-01-10 02:00:00</td>\n",
       "      <td>...</td>\n",
       "      <td>-0.001764</td>\n",
       "      <td>0.001764</td>\n",
       "      <td>0</td>\n",
       "      <td>0</td>\n",
       "      <td>0</td>\n",
       "      <td>0</td>\n",
       "      <td>290.526667</td>\n",
       "      <td>-0.004068</td>\n",
       "      <td>0.004068</td>\n",
       "      <td>0</td>\n",
       "    </tr>\n",
       "  </tbody>\n",
       "</table>\n",
       "<p>5 rows × 25 columns</p>\n",
       "</div>"
      ],
      "text/plain": [
       "   Unnamed: 0   Timestamp    Open    High     Low   Close  Volume_(BTC)  \\\n",
       "0           0  1420840800  289.59  289.94  289.13  289.13     34.042422   \n",
       "1           1  1420844400  293.61  293.61  292.15  292.15     36.628012   \n",
       "2           2  1420848000  293.89  293.89  293.89  293.89      0.158015   \n",
       "3           3  1420851600  289.20  289.20  289.10  289.10     30.985828   \n",
       "4           4  1420855200  289.18  289.18  288.57  288.59      7.694195   \n",
       "\n",
       "   Volume_(Currency)  Weighted_Price            Date(UTC)    ...     \\\n",
       "0        9854.490388      289.476771  2015-01-09 22:00:00    ...      \n",
       "1       10733.474260      293.040042  2015-01-09 23:00:00    ...      \n",
       "2          46.439149      293.890000  2015-01-10 00:00:00    ...      \n",
       "3        8960.344674      289.175573  2015-01-10 01:00:00    ...      \n",
       "4        2224.105007      289.062740  2015-01-10 02:00:00    ...      \n",
       "\n",
       "  Close Price % Change  Close Price % Change (Abs)  \\\n",
       "0                  NaN                         NaN   \n",
       "1             0.010445                    0.010445   \n",
       "2             0.005956                    0.005956   \n",
       "3            -0.016299                    0.016299   \n",
       "4            -0.001764                    0.001764   \n",
       "\n",
       "   Is Price Anomaly (Bitmap Detector) Is Price Anomaly (Derivative Detector)  \\\n",
       "0                                   0                                      0   \n",
       "1                                   0                                      0   \n",
       "2                                   0                                      0   \n",
       "3                                   0                                      0   \n",
       "4                                   0                                      0   \n",
       "\n",
       "   Is Price % Change Anomaly (Bitmap Detector)  \\\n",
       "0                                            0   \n",
       "1                                            0   \n",
       "2                                            0   \n",
       "3                                            0   \n",
       "4                                            0   \n",
       "\n",
       "   Is Trend Anomaly (Bitmap Detector)  Moving Average Price  \\\n",
       "0                                   0                   NaN   \n",
       "1                                   0                   NaN   \n",
       "2                                   0            291.723333   \n",
       "3                                   0            291.713333   \n",
       "4                                   0            290.526667   \n",
       "\n",
       "   Moving Average Price % Change  MA % Change (Abs.Value)  Is Spike  \n",
       "0                            NaN                      NaN         0  \n",
       "1                            NaN                      NaN         1  \n",
       "2                            NaN                      NaN         0  \n",
       "3                      -0.000034                 0.000034        -1  \n",
       "4                      -0.004068                 0.004068         0  \n",
       "\n",
       "[5 rows x 25 columns]"
      ]
     },
     "metadata": {},
     "output_type": "display_data"
    },
    {
     "data": {
      "text/plain": [
       "Index(['Unnamed: 0', 'Timestamp', 'Open', 'High', 'Low', 'Close',\n",
       "       'Volume_(BTC)', 'Volume_(Currency)', 'Weighted_Price', 'Date(UTC)',\n",
       "       'date', 'Bitcoin (Adj.Overlap)', 'isPartial', 'Date_UTC_trend',\n",
       "       'Bitcoin (Unadj.)', 'Close Price % Change',\n",
       "       'Close Price % Change (Abs)', 'Is Price Anomaly (Bitmap Detector)',\n",
       "       'Is Price Anomaly (Derivative Detector)',\n",
       "       'Is Price % Change Anomaly (Bitmap Detector)',\n",
       "       'Is Trend Anomaly (Bitmap Detector)', 'Moving Average Price',\n",
       "       'Moving Average Price % Change', 'MA % Change (Abs.Value)', 'Is Spike'],\n",
       "      dtype='object')"
      ]
     },
     "metadata": {},
     "output_type": "display_data"
    }
   ],
   "source": [
    "master_df = pd.read_csv('C:/Users/Shoya/surf/data/master_df.csv', encoding='latin1')\n",
    "display(master_df.head())\n",
    "display(master_df.columns)"
   ]
  },
  {
   "cell_type": "code",
   "execution_count": 3,
   "metadata": {
    "scrolled": true
   },
   "outputs": [
    {
     "data": {
      "text/html": [
       "<div>\n",
       "<style>\n",
       "    .dataframe thead tr:only-child th {\n",
       "        text-align: right;\n",
       "    }\n",
       "\n",
       "    .dataframe thead th {\n",
       "        text-align: left;\n",
       "    }\n",
       "\n",
       "    .dataframe tbody tr th {\n",
       "        vertical-align: top;\n",
       "    }\n",
       "</style>\n",
       "<table border=\"1\" class=\"dataframe\">\n",
       "  <thead>\n",
       "    <tr style=\"text-align: right;\">\n",
       "      <th></th>\n",
       "      <th>Timestamp</th>\n",
       "      <th>Close</th>\n",
       "      <th>Volume_(BTC)</th>\n",
       "      <th>Volume_(Currency)</th>\n",
       "      <th>Date(UTC)</th>\n",
       "      <th>Bitcoin (Adj.Overlap)</th>\n",
       "      <th>Close Price % Change</th>\n",
       "      <th>Close Price % Change (Abs)</th>\n",
       "      <th>Is Spike</th>\n",
       "    </tr>\n",
       "  </thead>\n",
       "  <tbody>\n",
       "    <tr>\n",
       "      <th>0</th>\n",
       "      <td>1420840800</td>\n",
       "      <td>289.13</td>\n",
       "      <td>34.042422</td>\n",
       "      <td>9854.490388</td>\n",
       "      <td>2015-01-09 22:00:00</td>\n",
       "      <td>53.0</td>\n",
       "      <td>NaN</td>\n",
       "      <td>NaN</td>\n",
       "      <td>0</td>\n",
       "    </tr>\n",
       "    <tr>\n",
       "      <th>1</th>\n",
       "      <td>1420844400</td>\n",
       "      <td>292.15</td>\n",
       "      <td>36.628012</td>\n",
       "      <td>10733.474260</td>\n",
       "      <td>2015-01-09 23:00:00</td>\n",
       "      <td>52.0</td>\n",
       "      <td>0.010445</td>\n",
       "      <td>0.010445</td>\n",
       "      <td>1</td>\n",
       "    </tr>\n",
       "  </tbody>\n",
       "</table>\n",
       "</div>"
      ],
      "text/plain": [
       "    Timestamp   Close  Volume_(BTC)  Volume_(Currency)            Date(UTC)  \\\n",
       "0  1420840800  289.13     34.042422        9854.490388  2015-01-09 22:00:00   \n",
       "1  1420844400  292.15     36.628012       10733.474260  2015-01-09 23:00:00   \n",
       "\n",
       "   Bitcoin (Adj.Overlap)  Close Price % Change  Close Price % Change (Abs)  \\\n",
       "0                   53.0                   NaN                         NaN   \n",
       "1                   52.0              0.010445                    0.010445   \n",
       "\n",
       "   Is Spike  \n",
       "0         0  \n",
       "1         1  "
      ]
     },
     "metadata": {},
     "output_type": "display_data"
    }
   ],
   "source": [
    "df = master_df[['Timestamp', 'Close', 'Volume_(BTC)', 'Volume_(Currency)', 'Date(UTC)', 'Bitcoin (Adj.Overlap)', \n",
    "               'Close Price % Change', 'Close Price % Change (Abs)', 'Is Spike']]\n",
    "display(df.head(2))"
   ]
  },
  {
   "cell_type": "code",
   "execution_count": 4,
   "metadata": {},
   "outputs": [
    {
     "name": "stdout",
     "output_type": "stream",
     "text": [
      "Observations: 28083\n",
      "Training Observations: 23869\n",
      "Testing Observations: 4213\n"
     ]
    },
    {
     "data": {
      "text/plain": [
       "array([[  1.42084440e+09,   2.92150000e+02,   3.66280122e+01,\n",
       "          5.20000000e+01],\n",
       "       [  1.42084800e+09,   2.93890000e+02,   1.58015410e-01,\n",
       "          5.20000000e+01],\n",
       "       [  1.42085160e+09,   2.89100000e+02,   3.09858284e+01,\n",
       "          5.60000000e+01],\n",
       "       ..., \n",
       "       [  1.50693480e+09,   4.41997000e+03,   2.36680244e+00,\n",
       "          4.33602997e+02],\n",
       "       [  1.50693840e+09,   4.43500000e+03,   2.09139639e+01,\n",
       "          4.38167239e+02],\n",
       "       [  1.50694200e+09,   4.43600000e+03,   1.34544159e+00,\n",
       "          4.15346029e+02]])"
      ]
     },
     "metadata": {},
     "output_type": "display_data"
    },
    {
     "data": {
      "text/plain": [
       "array([ 1,  0, -1, ...,  1,  0,  0], dtype=int64)"
      ]
     },
     "metadata": {},
     "output_type": "display_data"
    }
   ],
   "source": [
    "from sklearn.model_selection import TimeSeriesSplit\n",
    "\n",
    "# Preprocess\n",
    "\n",
    "tscv = TimeSeriesSplit(n_splits=3)\n",
    "\n",
    "X = df[['Timestamp', 'Close', 'Volume_(BTC)', 'Bitcoin (Adj.Overlap)']].values\n",
    "Y = df['Is Spike'].values\n",
    "\n",
    "train_size = int(len(X) * 0.85)\n",
    "X_train, X_test = X[1:train_size], X[train_size:len(X)]\n",
    "Y_train, Y_test = Y[1:train_size], Y[train_size:len(X)]\n",
    "print('Observations: %d' % (len(X)))\n",
    "print('Training Observations: %d' % (len(X_train)))\n",
    "print('Testing Observations: %d' % (len(Y_test)))\n",
    "\n",
    "\n",
    "display(X_train, Y_train)"
   ]
  },
  {
   "cell_type": "code",
   "execution_count": null,
   "metadata": {
    "scrolled": true
   },
   "outputs": [
    {
     "name": "stderr",
     "output_type": "stream",
     "text": [
      "C:\\Users\\Shoya\\Anaconda2\\envs\\tensorflow\\lib\\site-packages\\sklearn\\cross_validation.py:41: DeprecationWarning: This module was deprecated in version 0.18 in favor of the model_selection module into which all the refactored classes and functions are moved. Also note that the interface of the new CV iterators are different from that of this module. This module will be removed in 0.20.\n",
      "  \"This module will be removed in 0.20.\", DeprecationWarning)\n"
     ]
    },
    {
     "name": "stdout",
     "output_type": "stream",
     "text": [
      "Imputing missing values in feature set\n"
     ]
    },
    {
     "name": "stderr",
     "output_type": "stream",
     "text": [
      "                                                                                                                       \r"
     ]
    },
    {
     "name": "stdout",
     "output_type": "stream",
     "text": [
      "Generation 1 - Current best internal CV score: 0.8369923467962684\n"
     ]
    },
    {
     "name": "stderr",
     "output_type": "stream",
     "text": [
      "                                                                                                                       \r"
     ]
    },
    {
     "name": "stdout",
     "output_type": "stream",
     "text": [
      "Generation 2 - Current best internal CV score: 0.8372157980001118\n"
     ]
    },
    {
     "name": "stderr",
     "output_type": "stream",
     "text": [
      "                                                                                                                       \r"
     ]
    },
    {
     "name": "stdout",
     "output_type": "stream",
     "text": [
      "Generation 3 - Current best internal CV score: 0.8372716608010725\n"
     ]
    },
    {
     "name": "stderr",
     "output_type": "stream",
     "text": [
      "                                                                                                                       \r"
     ]
    },
    {
     "name": "stdout",
     "output_type": "stream",
     "text": [
      "Generation 4 - Current best internal CV score: 0.8372716608010725\n"
     ]
    },
    {
     "name": "stderr",
     "output_type": "stream",
     "text": [
      "                                                                                                                       \r"
     ]
    },
    {
     "name": "stdout",
     "output_type": "stream",
     "text": [
      "Generation 5 - Current best internal CV score: 0.8372716608010725\n"
     ]
    },
    {
     "name": "stderr",
     "output_type": "stream",
     "text": [
      "                                                                                                                       \r"
     ]
    },
    {
     "name": "stdout",
     "output_type": "stream",
     "text": [
      "Generation 6 - Current best internal CV score: 0.8377185632087594\n"
     ]
    },
    {
     "name": "stderr",
     "output_type": "stream",
     "text": [
      "                                                                                                                       \r"
     ]
    },
    {
     "name": "stdout",
     "output_type": "stream",
     "text": [
      "Generation 7 - Current best internal CV score: 0.8377185632087594\n"
     ]
    },
    {
     "name": "stderr",
     "output_type": "stream",
     "text": [
      "                                                                                                                       \r"
     ]
    },
    {
     "name": "stdout",
     "output_type": "stream",
     "text": [
      "Generation 8 - Current best internal CV score: 0.8377185632087594\n"
     ]
    },
    {
     "name": "stderr",
     "output_type": "stream",
     "text": [
      "                                                                                                                       \r"
     ]
    },
    {
     "name": "stdout",
     "output_type": "stream",
     "text": [
      "Generation 9 - Current best internal CV score: 0.8377185632087594\n"
     ]
    },
    {
     "name": "stderr",
     "output_type": "stream",
     "text": [
      "                                                                                                                       \r"
     ]
    },
    {
     "name": "stdout",
     "output_type": "stream",
     "text": [
      "Generation 10 - Current best internal CV score: 0.8377185632087594\n"
     ]
    },
    {
     "name": "stderr",
     "output_type": "stream",
     "text": [
      "                                                                                                                       \r"
     ]
    },
    {
     "name": "stdout",
     "output_type": "stream",
     "text": [
      "Generation 11 - Current best internal CV score: 0.8377185632087594\n"
     ]
    },
    {
     "name": "stderr",
     "output_type": "stream",
     "text": [
      "                                                                                                                       \r"
     ]
    },
    {
     "name": "stdout",
     "output_type": "stream",
     "text": [
      "Generation 12 - Current best internal CV score: 0.8382771912183676\n"
     ]
    },
    {
     "name": "stderr",
     "output_type": "stream",
     "text": [
      "                                                                                                                       \r"
     ]
    },
    {
     "name": "stdout",
     "output_type": "stream",
     "text": [
      "Generation 13 - Current best internal CV score: 0.8384447796212502\n"
     ]
    },
    {
     "name": "stderr",
     "output_type": "stream",
     "text": [
      "                                                                                                                       \r"
     ]
    },
    {
     "name": "stdout",
     "output_type": "stream",
     "text": [
      "\n"
     ]
    },
    {
     "name": "stderr",
     "output_type": "stream",
     "text": [
      "                                                                                                                       \r"
     ]
    },
    {
     "name": "stdout",
     "output_type": "stream",
     "text": [
      "\n",
      "TPOT closed prematurely. Will use the current best pipeline.\n"
     ]
    },
    {
     "name": "stderr",
     "output_type": "stream",
     "text": [
      "                                                                                                                       \r"
     ]
    },
    {
     "name": "stdout",
     "output_type": "stream",
     "text": [
      "\n",
      "Best pipeline: LinearSVC(RandomForestClassifier(SelectFwe(input_matrix, alpha=0.004), bootstrap=False, criterion=entropy, max_features=0.9, min_samples_leaf=8, min_samples_split=17, n_estimators=100), C=0.0001, dual=False, loss=squared_hinge, penalty=l1, tol=0.0001)\n"
     ]
    }
   ],
   "source": [
    "from tpot import TPOTClassifier \n",
    "\n",
    "tpot = TPOTClassifier(verbosity=2, max_time_mins=420, cv=tscv)\n",
    "tpot.fit(X_train, Y_train)"
   ]
  },
  {
   "cell_type": "code",
   "execution_count": null,
   "metadata": {},
   "outputs": [],
   "source": [
    "tpot.score(X_test, Y_test)"
   ]
  },
  {
   "cell_type": "code",
   "execution_count": null,
   "metadata": {
    "collapsed": true
   },
   "outputs": [],
   "source": [
    "tpot.export('tpot_crypto_spike_predictor.py')"
   ]
  },
  {
   "cell_type": "code",
   "execution_count": null,
   "metadata": {
    "collapsed": true
   },
   "outputs": [],
   "source": [
    "# The Automatically Generated Code \n",
    "\n",
    "from sklearn.feature_selection import SelectPercentile, f_classif\n",
    "from sklearn.model_selection import train_test_split\n",
    "from sklearn.pipeline import make_pipeline\n",
    "from sklearn.preprocessing import Imputer\n",
    "from sklearn.tree import DecisionTreeClassifier\n",
    "\n",
    "# NOTE: Make sure that the class is labeled 'target' in the data file\n",
    "#tpot_data = pd.read_csv('PATH/TO/DATA/FILE', sep='COLUMN_SEPARATOR', dtype=np.float64)\n",
    "tpot_data = df[['Timestamp', 'Close', 'Volume_(BTC)', 'Bitcoin (Adj.Overlap)', 'Close Price % Change', 'Is Spike']]\n",
    "features = tpot_data.drop('Is Spike', axis=1).values\n",
    "\n",
    "\n",
    "# This shuffles, which I don't want!!\n",
    "\n",
    "training_features, testing_features, training_target, testing_target = \\\n",
    "            train_test_split(features, tpot_data['Is Spike'].values, random_state=42)\n",
    "\n",
    "imputer = Imputer(strategy=\"median\")\n",
    "imputer.fit(training_features)\n",
    "training_features = imputer.transform(training_features)\n",
    "testing_features = imputer.transform(testing_features)\n",
    "\n",
    "# Score on the training set was:0.8797150997150996\n",
    "exported_pipeline = make_pipeline(\n",
    "    SelectPercentile(score_func=f_classif, percentile=1),\n",
    "    DecisionTreeClassifier(criterion=\"gini\", max_depth=6, min_samples_leaf=20, min_samples_split=13)\n",
    ")\n",
    "\n",
    "# exported_pipeline.fit(training_features, training_target)\n",
    "# results = exported_pipeline.predict(testing_features)\n",
    "\n",
    "\n",
    "# display(X_train, Y_train)\n",
    "\n",
    "# X_train = X_train[~np.isnan(X_train)]\n",
    "# Y_train = Y_train[~np.isnan(Y_train)]\n",
    "\n",
    "# exported_pipeline.fit(X_train[1:], Y_train[1:])\n",
    "# exported_pipeline.score(X_test, Y_test)"
   ]
  },
  {
   "cell_type": "code",
   "execution_count": null,
   "metadata": {
    "collapsed": true
   },
   "outputs": [],
   "source": [
    "import numpy as np\n",
    "import pandas as pd\n",
    "from sklearn.decomposition import FastICA\n",
    "from sklearn.model_selection import train_test_split\n",
    "from sklearn.pipeline import make_pipeline, make_union\n",
    "from sklearn.preprocessing import Imputer\n",
    "from tpot.builtins import StackingEstimator\n",
    "from xgboost import XGBClassifier\n",
    "from sklearn.preprocessing import FunctionTransformer\n",
    "from copy import copy\n",
    "\n",
    "# NOTE: Make sure that the class is labeled 'target' in the data file\n",
    "tpot_data = pd.read_csv('PATH/TO/DATA/FILE', sep='COLUMN_SEPARATOR', dtype=np.float64)\n",
    "features = tpot_data.drop('target', axis=1).values\n",
    "training_features, testing_features, training_target, testing_target = \\\n",
    "            train_test_split(features, tpot_data['target'].values, random_state=42)\n",
    "\n",
    "imputer = Imputer(strategy=\"median\")\n",
    "imputer.fit(training_features)\n",
    "training_features = imputer.transform(training_features)\n",
    "testing_features = imputer.transform(testing_features)\n",
    "\n",
    "# Score on the training set was:0.9182509505703423\n",
    "exported_pipeline = make_pipeline(\n",
    "    make_union(\n",
    "        FastICA(tol=0.75),\n",
    "        FunctionTransformer(copy)\n",
    "    ),\n",
    "    XGBClassifier(learning_rate=0.01, max_depth=4, min_child_weight=7, n_estimators=100, nthread=1, subsample=0.6500000000000001)\n",
    ")\n",
    "\n",
    "exported_pipeline.fit(training_features, training_target)\n",
    "results = exported_pipeline.predict(testing_features)\n",
    "\n",
    "\n",
    "# Score of 0.79100163378157595 on actual training set"
   ]
  },
  {
   "cell_type": "code",
   "execution_count": null,
   "metadata": {
    "collapsed": true
   },
   "outputs": [],
   "source": []
  }
 ],
 "metadata": {
  "kernelspec": {
   "display_name": "Python [conda env:tensorflow]",
   "language": "python",
   "name": "conda-env-tensorflow-py"
  },
  "language_info": {
   "codemirror_mode": {
    "name": "ipython",
    "version": 3
   },
   "file_extension": ".py",
   "mimetype": "text/x-python",
   "name": "python",
   "nbconvert_exporter": "python",
   "pygments_lexer": "ipython3",
   "version": "3.5.4"
  }
 },
 "nbformat": 4,
 "nbformat_minor": 2
}
